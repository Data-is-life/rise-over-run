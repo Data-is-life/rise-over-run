{
 "cells": [
  {
   "cell_type": "code",
   "execution_count": 68,
   "id": "db649954-bc53-47b0-b99b-94f9a9148d24",
   "metadata": {},
   "outputs": [
    {
     "ename": "ApiError",
     "evalue": "404 ({'error': {'code': 2010, 'message': 'Could not find routable point within a radius of 350.0 meters of specified coordinate 0: 47.5990873 -122.3337386.'}, 'info': {'engine': {'build_date': '2025-06-06T15:39:25Z', 'graph_version': '2', 'graph_date': '2025-08-26T15:10:22Z', 'osm_date': '2025-08-18T00:00:00Z', 'version': '9.3.0'}, 'timestamp': 1757016400666}})",
     "output_type": "error",
     "traceback": [
      "\u001b[0;31m---------------------------------------------------------------------------\u001b[0m",
      "\u001b[0;31mApiError\u001b[0m                                  Traceback (most recent call last)",
      "Cell \u001b[0;32mIn[68], line 29\u001b[0m\n\u001b[1;32m     26\u001b[0m end_coords \u001b[38;5;241m=\u001b[39m geocode_address(end_address)\n\u001b[1;32m     28\u001b[0m \u001b[38;5;66;03m# 2. Get route\u001b[39;00m\n\u001b[0;32m---> 29\u001b[0m route \u001b[38;5;241m=\u001b[39m client\u001b[38;5;241m.\u001b[39mdirections(\n\u001b[1;32m     30\u001b[0m     coordinates\u001b[38;5;241m=\u001b[39m[start_coords, end_coords],\n\u001b[1;32m     31\u001b[0m     profile\u001b[38;5;241m=\u001b[39m\u001b[38;5;124m'\u001b[39m\u001b[38;5;124mfoot-walking\u001b[39m\u001b[38;5;124m'\u001b[39m,\n\u001b[1;32m     32\u001b[0m     \u001b[38;5;28mformat\u001b[39m\u001b[38;5;241m=\u001b[39m\u001b[38;5;124m'\u001b[39m\u001b[38;5;124mgeojson\u001b[39m\u001b[38;5;124m'\u001b[39m\n\u001b[1;32m     33\u001b[0m )\n\u001b[1;32m     35\u001b[0m \u001b[38;5;66;03m# 3. Extract coordinates (as [lon, lat] list)\u001b[39;00m\n\u001b[1;32m     36\u001b[0m coords \u001b[38;5;241m=\u001b[39m route[\u001b[38;5;124m'\u001b[39m\u001b[38;5;124mfeatures\u001b[39m\u001b[38;5;124m'\u001b[39m][\u001b[38;5;241m0\u001b[39m][\u001b[38;5;124m'\u001b[39m\u001b[38;5;124mgeometry\u001b[39m\u001b[38;5;124m'\u001b[39m][\u001b[38;5;124m'\u001b[39m\u001b[38;5;124mcoordinates\u001b[39m\u001b[38;5;124m'\u001b[39m]\n",
      "File \u001b[0;32m/opt/anaconda3/lib/python3.12/site-packages/openrouteservice/client.py:299\u001b[0m, in \u001b[0;36m_make_api_method.<locals>.wrapper\u001b[0;34m(*args, **kwargs)\u001b[0m\n\u001b[1;32m    296\u001b[0m \u001b[38;5;129m@functools\u001b[39m\u001b[38;5;241m.\u001b[39mwraps(func)\n\u001b[1;32m    297\u001b[0m \u001b[38;5;28;01mdef\u001b[39;00m\u001b[38;5;250m \u001b[39m\u001b[38;5;21mwrapper\u001b[39m(\u001b[38;5;241m*\u001b[39margs, \u001b[38;5;241m*\u001b[39m\u001b[38;5;241m*\u001b[39mkwargs):\n\u001b[1;32m    298\u001b[0m     args[\u001b[38;5;241m0\u001b[39m]\u001b[38;5;241m.\u001b[39m_extra_params \u001b[38;5;241m=\u001b[39m kwargs\u001b[38;5;241m.\u001b[39mpop(\u001b[38;5;124m\"\u001b[39m\u001b[38;5;124mextra_params\u001b[39m\u001b[38;5;124m\"\u001b[39m, \u001b[38;5;28;01mNone\u001b[39;00m)\n\u001b[0;32m--> 299\u001b[0m     result \u001b[38;5;241m=\u001b[39m func(\u001b[38;5;241m*\u001b[39margs, \u001b[38;5;241m*\u001b[39m\u001b[38;5;241m*\u001b[39mkwargs)\n\u001b[1;32m    300\u001b[0m     \u001b[38;5;28;01mtry\u001b[39;00m:\n\u001b[1;32m    301\u001b[0m         \u001b[38;5;28;01mdel\u001b[39;00m args[\u001b[38;5;241m0\u001b[39m]\u001b[38;5;241m.\u001b[39m_extra_params\n",
      "File \u001b[0;32m/opt/anaconda3/lib/python3.12/site-packages/openrouteservice/directions.py:281\u001b[0m, in \u001b[0;36mdirections\u001b[0;34m(client, coordinates, profile, format_out, format, preference, units, language, geometry, geometry_simplify, instructions, instructions_format, alternative_routes, roundabout_exits, attributes, maneuvers, radiuses, bearings, skip_segments, continue_straight, elevation, extra_info, suppress_warnings, optimized, optimize_waypoints, options, validate, dry_run)\u001b[0m\n\u001b[1;32m    278\u001b[0m \u001b[38;5;28;01mif\u001b[39;00m options:\n\u001b[1;32m    279\u001b[0m     params[\u001b[38;5;124m'\u001b[39m\u001b[38;5;124moptions\u001b[39m\u001b[38;5;124m'\u001b[39m] \u001b[38;5;241m=\u001b[39m options\n\u001b[0;32m--> 281\u001b[0m \u001b[38;5;28;01mreturn\u001b[39;00m client\u001b[38;5;241m.\u001b[39mrequest(\u001b[38;5;124m\"\u001b[39m\u001b[38;5;124m/v2/directions/\u001b[39m\u001b[38;5;124m\"\u001b[39m \u001b[38;5;241m+\u001b[39m profile \u001b[38;5;241m+\u001b[39m \u001b[38;5;124m'\u001b[39m\u001b[38;5;124m/\u001b[39m\u001b[38;5;124m'\u001b[39m \u001b[38;5;241m+\u001b[39m \u001b[38;5;28mformat\u001b[39m, {}, post_json\u001b[38;5;241m=\u001b[39mparams, dry_run\u001b[38;5;241m=\u001b[39mdry_run)\n",
      "File \u001b[0;32m/opt/anaconda3/lib/python3.12/site-packages/openrouteservice/client.py:204\u001b[0m, in \u001b[0;36mClient.request\u001b[0;34m(self, url, get_params, first_request_time, retry_counter, requests_kwargs, post_json, dry_run)\u001b[0m\n\u001b[1;32m    200\u001b[0m     \u001b[38;5;28;01mreturn\u001b[39;00m \u001b[38;5;28mself\u001b[39m\u001b[38;5;241m.\u001b[39mrequest(url, get_params, first_request_time,\n\u001b[1;32m    201\u001b[0m                         retry_counter \u001b[38;5;241m+\u001b[39m \u001b[38;5;241m1\u001b[39m, requests_kwargs, post_json)\n\u001b[1;32m    203\u001b[0m \u001b[38;5;28;01mtry\u001b[39;00m:\n\u001b[0;32m--> 204\u001b[0m     result \u001b[38;5;241m=\u001b[39m \u001b[38;5;28mself\u001b[39m\u001b[38;5;241m.\u001b[39m_get_body(response)\n\u001b[1;32m    206\u001b[0m     \u001b[38;5;28;01mreturn\u001b[39;00m result\n\u001b[1;32m    207\u001b[0m \u001b[38;5;28;01mexcept\u001b[39;00m exceptions\u001b[38;5;241m.\u001b[39m_RetriableRequest \u001b[38;5;28;01mas\u001b[39;00m e:\n",
      "File \u001b[0;32m/opt/anaconda3/lib/python3.12/site-packages/openrouteservice/client.py:242\u001b[0m, in \u001b[0;36mClient._get_body\u001b[0;34m(response)\u001b[0m\n\u001b[1;32m    237\u001b[0m     \u001b[38;5;28;01mraise\u001b[39;00m exceptions\u001b[38;5;241m.\u001b[39m_OverQueryLimit(\n\u001b[1;32m    238\u001b[0m         status_code,\n\u001b[1;32m    239\u001b[0m         body\n\u001b[1;32m    240\u001b[0m     )\n\u001b[1;32m    241\u001b[0m \u001b[38;5;28;01mif\u001b[39;00m status_code \u001b[38;5;241m!=\u001b[39m \u001b[38;5;241m200\u001b[39m:\n\u001b[0;32m--> 242\u001b[0m     \u001b[38;5;28;01mraise\u001b[39;00m exceptions\u001b[38;5;241m.\u001b[39mApiError(\n\u001b[1;32m    243\u001b[0m         status_code,\n\u001b[1;32m    244\u001b[0m         body\n\u001b[1;32m    245\u001b[0m     )\n\u001b[1;32m    247\u001b[0m \u001b[38;5;28;01mreturn\u001b[39;00m body\n",
      "\u001b[0;31mApiError\u001b[0m: 404 ({'error': {'code': 2010, 'message': 'Could not find routable point within a radius of 350.0 meters of specified coordinate 0: 47.5990873 -122.3337386.'}, 'info': {'engine': {'build_date': '2025-06-06T15:39:25Z', 'graph_version': '2', 'graph_date': '2025-08-26T15:10:22Z', 'osm_date': '2025-08-18T00:00:00Z', 'version': '9.3.0'}, 'timestamp': 1757016400666}})"
     ]
    }
   ],
   "source": [
    "import openrouteservice\n",
    "from geopy.geocoders import Nominatim\n",
    "import time\n",
    "import polyline\n",
    "\n",
    "ORS_API_KEY = \"eyJvcmciOiI1YjNjZTM1OTc4NTExMTAwMDFjZjYyNDgiLCJpZCI6ImExOWI5M2FjZTYwNjRjYzI4MTgwZmNmNmFjOWVkZWJlIiwiaCI6Im11cm11cjY0In0=\"\n",
    "client = openrouteservice.Client(key=ORS_API_KEY)\n",
    "geolocator = Nominatim(user_agent=\"rise-over-run\", timeout=10)\n",
    "\n",
    "# 1. Geocode addresses\n",
    "def geocode_address(address):\n",
    "    for _ in range(3):\n",
    "        try:\n",
    "            location = geolocator.geocode(address)\n",
    "            if location:\n",
    "                return [location.latitude, location.longitude]  # [lat, lon]\n",
    "        except Exception as e:\n",
    "            print(\"Retrying geocode:\", e)\n",
    "            time.sleep(1)\n",
    "    raise ValueError(f\"Could not geocode: {address}\")\n",
    "\n",
    "start_address = \"111 S Jackson St, Seattle, WA 98104\"\n",
    "end_address = \"423 Terry Ave, Seattle, WA 98104\"\n",
    "\n",
    "start_coords = geocode_address(start_address)\n",
    "end_coords = geocode_address(end_address)\n",
    "\n",
    "# 2. Get route\n",
    "route = client.directions(\n",
    "    coordinates=[start_coords, end_coords],\n",
    "    profile='foot-walking',\n",
    "    format='geojson'\n",
    ")\n",
    "\n",
    "# 3. Extract coordinates (as [lon, lat] list)\n",
    "coords = route['features'][0]['geometry']['coordinates']\n",
    "print(\"Sample route coordinates:\", coords[:3])\n",
    "\n",
    "# 4. Encode polyline\n",
    "encoded_polyline = polyline.encode(coords)\n",
    "print(\"Encoded polyline:\", encoded_polyline)\n",
    "\n",
    "# 5. Elevation API call\n",
    "elevation = client.elevation_line(\n",
    "    format_in='encodedpolyline',\n",
    "    format_out='geojson',\n",
    "    geometry=encoded_polyline\n",
    ")\n",
    "\n",
    "# 6. Print elevation data\n",
    "print(\"Elevation response keys:\", elevation.keys())\n",
    "print(\"First few elevation points:\")\n",
    "for point in elevation['geometry']['coordinates'][:5]:\n",
    "    print(point)  # [lon, lat, elevation]"
   ]
  },
  {
   "cell_type": "code",
   "execution_count": null,
   "id": "ebebd951-c0e8-4f9d-b650-5d99c028ce44",
   "metadata": {},
   "outputs": [],
   "source": []
  }
 ],
 "metadata": {
  "kernelspec": {
   "display_name": "Python 3 (ipykernel)",
   "language": "python",
   "name": "python3"
  },
  "language_info": {
   "codemirror_mode": {
    "name": "ipython",
    "version": 3
   },
   "file_extension": ".py",
   "mimetype": "text/x-python",
   "name": "python",
   "nbconvert_exporter": "python",
   "pygments_lexer": "ipython3",
   "version": "3.12.7"
  }
 },
 "nbformat": 4,
 "nbformat_minor": 5
}
