{
 "cells": [
  {
   "cell_type": "code",
   "execution_count": 28,
   "id": "104302fe-72fd-43ad-826f-cf4edbf55840",
   "metadata": {},
   "outputs": [],
   "source": [
    "import os\n",
    "import osmnx as ox\n",
    "import numpy as np\n",
    "from pyproj import Geod\n",
    "import heapq\n",
    "from collections import defaultdict\n",
    "import matplotlib.pyplot as plt"
   ]
  },
  {
   "cell_type": "code",
   "execution_count": 29,
   "id": "8965ea8f-bfd4-45b6-b5e5-ef6bd6ab042d",
   "metadata": {},
   "outputs": [],
   "source": [
    "# --------------------------\n",
    "# HGT Reader\n",
    "# --------------------------\n",
    "class HGTReader:\n",
    "    def __init__(self, filepath):\n",
    "        self.size = 3601  # 1 arc-second grid\n",
    "        self.data = np.fromfile(filepath, np.dtype('>i2'),\n",
    "                                self.size*self.size).reshape((self.size, self.size))\n",
    "        fname = os.path.basename(filepath).upper()\n",
    "        self.lat0 = int(fname[1:3]) * (1 if fname[0] == 'N' else -1)\n",
    "        self.lon0 = int(fname[4:7]) * (1 if fname[3] == 'E' else -1)\n",
    "\n",
    "    def get_elevation(self, lat, lon):\n",
    "        if not (self.lat0 <= lat < self.lat0+1 and self.lon0 <= lon < self.lon0+1):\n",
    "            return None\n",
    "        row = int((self.lat0 + 1 - lat) * (self.size - 1))\n",
    "        col = int((lon - self.lon0) * (self.size - 1))\n",
    "        if 0 <= row < self.size and 0 <= col < self.size:\n",
    "            val = int(self.data[row, col])\n",
    "            return None if val == -32768 else val\n",
    "        return None"
   ]
  },
  {
   "cell_type": "code",
   "execution_count": 30,
   "id": "bef41786-b5ff-4206-8fec-56c9d2289b1d",
   "metadata": {},
   "outputs": [],
   "source": [
    "# --------------------------\n",
    "# Build Custom Graph\n",
    "# --------------------------\n",
    "def build_graph(start, end, sampler, bbox):\n",
    "    G = ox.graph_from_bbox(bbox=bbox, network_type=\"walk\", simplify=True)\n",
    "    geod = Geod(ellps=\"WGS84\")\n",
    "\n",
    "    custom_graph = defaultdict(list)\n",
    "\n",
    "    for u, v, data in G.edges(data=True):\n",
    "        # base distance\n",
    "        dist = data.get(\"length\", 0)\n",
    "        gain = 0\n",
    "\n",
    "        # coords\n",
    "        if \"geometry\" in data:\n",
    "            coords = [(y, x) for x, y in data[\"geometry\"].coords]\n",
    "        else:\n",
    "            coords = [(G.nodes[u]['y'], G.nodes[u]['x']),\n",
    "                      (G.nodes[v]['y'], G.nodes[v]['x'])]\n",
    "\n",
    "        if len(coords) >= 2:\n",
    "            elevs = []\n",
    "            for i in range(len(coords)-1):\n",
    "                lat1, lon1 = coords[i]\n",
    "                lat2, lon2 = coords[i+1]\n",
    "                seg_len = geod.line_length([lon1, lon2],[lat1, lat2])\n",
    "                if np.isnan(seg_len) or seg_len <= 0:\n",
    "                    continue\n",
    "                steps = max(1, int(seg_len // 5))\n",
    "                lats = np.linspace(lat1, lat2, steps+1)\n",
    "                lons = np.linspace(lon1, lon2, steps+1)\n",
    "                for j in range(len(lats)):\n",
    "                    e = sampler.get_elevation(lats[j], lons[j])\n",
    "                    if e is not None:\n",
    "                        elevs.append(e)\n",
    "\n",
    "            if len(elevs) > 1:\n",
    "                gain = sum(max(0, elevs[i+1]-elevs[i]) for i in range(len(elevs)-1))\n",
    "\n",
    "        edge = {\"distance\": dist, \"gain\": gain, \"coords\": coords}\n",
    "\n",
    "        # undirected graph (walking both ways)\n",
    "        custom_graph[u].append((v, edge))\n",
    "        custom_graph[v].append((u, edge))\n",
    "\n",
    "    return G, custom_graph"
   ]
  },
  {
   "cell_type": "code",
   "execution_count": null,
   "id": "3e8329ba-361b-4cf0-897d-c64a0007677f",
   "metadata": {},
   "outputs": [],
   "source": [
    "# --------------------------\n",
    "# Custom Dijkstra\n",
    "# --------------------------\n",
    "def dijkstra(graph, start, goal, cost_fn):\n",
    "    pq = [(0, start, [])]  # (cost, node, path)\n",
    "    visited = set()\n",
    "\n",
    "    while pq:\n",
    "        cost, node, path = heapq.heappop(pq)\n",
    "        if node in visited:\n",
    "            continue\n",
    "        visited.add(node)\n",
    "\n",
    "        path = path + [node]\n",
    "        if node == goal:\n",
    "            return path, cost\n",
    "\n",
    "        for neighbor, edge in graph[node]:\n",
    "            if neighbor not in visited:\n",
    "                edge_cost = cost_fn(edge)\n",
    "                heapq.heappush(pq, (cost + edge_cost, neighbor, path))\n",
    "\n",
    "    return None, float(\"inf\")"
   ]
  },
  {
   "cell_type": "code",
   "execution_count": 31,
   "id": "bb188506-dd66-48af-bb30-bad4cc4710a0",
   "metadata": {},
   "outputs": [],
   "source": [
    "# --------------------------\n",
    "# Cost Functions\n",
    "# --------------------------\n",
    "def cost_shortest(edge): return edge[\"distance\"]\n",
    "def cost_flattest(edge): return edge[\"gain\"]\n",
    "def cost_optimized(alpha=0.5, beta=0.5):\n",
    "    return lambda edge: alpha*edge[\"distance\"] + beta*edge[\"gain\"]"
   ]
  },
  {
   "cell_type": "code",
   "execution_count": 32,
   "id": "ef1a65f6-7e60-46af-aaca-a1c98b3b3c7d",
   "metadata": {},
   "outputs": [],
   "source": [
    "# --------------------------\n",
    "# Elevation Profile\n",
    "# --------------------------\n",
    "def build_profile(path, graph, sampler, step=5):\n",
    "    geod = Geod(ellps=\"WGS84\")\n",
    "    dists, elevs = [], []\n",
    "    total = 0\n",
    "    for u, v in zip(path[:-1], path[1:]):\n",
    "        edge = next(e for n,e in graph[u] if n==v)\n",
    "        coords = edge[\"coords\"]\n",
    "        for i in range(len(coords)-1):\n",
    "            lat1, lon1 = coords[i]\n",
    "            lat2, lon2 = coords[i+1]\n",
    "            seg_len = geod.line_length([lon1, lon2], [lat1, lat2])\n",
    "            if np.isnan(seg_len) or seg_len <= 0:\n",
    "                continue\n",
    "            steps = max(1, int(seg_len // step))\n",
    "            lats = np.linspace(lat1, lat2, steps+1)\n",
    "            lons = np.linspace(lon1, lon2, steps+1)\n",
    "            for j in range(len(lats)):\n",
    "                e = sampler.get_elevation(lats[j], lons[j])\n",
    "                if e is not None:\n",
    "                    elevs.append(e)\n",
    "                    dists.append(total + (j/steps)*seg_len)\n",
    "            total += seg_len\n",
    "    return dists, elevs"
   ]
  },
  {
   "cell_type": "code",
   "execution_count": 33,
   "id": "10b03f36-caaf-4e22-88d9-867d360e4c0d",
   "metadata": {},
   "outputs": [],
   "source": [
    "# --------------------------\n",
    "# Plot\n",
    "# --------------------------\n",
    "def plot_profiles(profiles):\n",
    "    plt.figure(figsize=(9,6))\n",
    "    for label,(d,e,m) in profiles.items():\n",
    "        plt.plot(d, e, label=f\"{label} (Dist={m['distance']:.0f}m, Gain={m['gain']:.0f}m)\")\n",
    "    plt.xlabel(\"Distance (m)\")\n",
    "    plt.ylabel(\"Elevation (m)\")\n",
    "    plt.title(\"Seattle Routes: Shortest vs Flattest vs Optimized\")\n",
    "    plt.legend()\n",
    "    plt.grid(True)\n",
    "    plt.show()"
   ]
  },
  {
   "cell_type": "code",
   "execution_count": 35,
   "id": "78d0b94a-abf7-4316-8204-4d09ac712932",
   "metadata": {},
   "outputs": [
    {
     "name": "stdout",
     "output_type": "stream",
     "text": [
      "Example edge attributes: {'osmid': 925107065, 'highway': 'footway', 'oneway': False, 'reversed': False, 'length': 2.4646365199550835, 'distance': 2.4646365199550835, 'gain': 0}\n",
      "Shortest : {'distance': 0, 'gain': 0}\n",
      "Flattest : {'distance': 0, 'gain': 0}\n",
      "Optimized : {'distance': 0, 'gain': 0}\n"
     ]
    },
    {
     "data": {
      "image/png": "[encoded data removed]",
      "text/plain": [
       "<Figure size 900x600 with 1 Axes>"
      ]
     },
     "metadata": {},
     "output_type": "display_data"
    }
   ],
   "source": [
    "start = (47.6095, -122.3365)  # Pike St\n",
    "end   = (47.6057, -122.3235)  # Terry Ave\n",
    "north, south, east, west = 47.612, 47.603, -122.320, -122.345\n",
    "\n",
    "sampler = HGTReader(\"N47W123.hgt\")\n",
    "G, graph = build_graph(start, end, sampler, bbox=(north, south, east, west))\n",
    "\n",
    "# find nearest nodes in OSMnx graph\n",
    "orig = ox.distance.nearest_nodes(G, start[1], start[0])\n",
    "dest = ox.distance.nearest_nodes(G, end[1], end[0])\n",
    "\n",
    "routes = {}\n",
    "for label, cost_fn in {\n",
    "    \"Shortest\": cost_shortest,\n",
    "    \"Flattest\": cost_flattest,\n",
    "    \"Optimized\": cost_optimized(0.5, 0.5)\n",
    "}.items():\n",
    "    path, cost = dijkstra(graph, orig, dest, cost_fn)\n",
    "    dist = sum(next(e for n,e in graph[u] if n==v)[\"distance\"] for u,v in zip(path[:-1], path[1:]))\n",
    "    gain = sum(next(e for n,e in graph[u] if n==v)[\"gain\"] for u,v in zip(path[:-1], path[1:]))\n",
    "    routes[label] = (path, {\"distance\": dist, \"gain\": gain})\n",
    "    print(label, \":\", {\"distance\": dist, \"gain\": gain})\n",
    "\n",
    "# Build elevation profiles\n",
    "profiles = {}\n",
    "for label,(path,metrics) in routes.items():\n",
    "    d,e = build_profile(path, graph, sampler)\n",
    "    profiles[label] = (d,e,metrics)\n",
    "\n",
    "plot_profiles(profiles)"
   ]
  },
  {
   "cell_type": "code",
   "execution_count": null,
   "id": "e99afe70-41b1-45a3-8810-33ea256e2228",
   "metadata": {},
   "outputs": [],
   "source": []
  },
  {
   "cell_type": "code",
   "execution_count": null,
   "id": "49c8e1fb-d514-4638-be8d-cdc5f3bb8025",
   "metadata": {},
   "outputs": [],
   "source": []
  },
  {
   "cell_type": "code",
   "execution_count": null,
   "id": "de1dcb79-fbcd-4516-927a-3bdefe9621e0",
   "metadata": {},
   "outputs": [],
   "source": []
  },
  {
   "cell_type": "code",
   "execution_count": null,
   "id": "0fc0df8a-58f7-4de9-8612-ced3358c4845",
   "metadata": {},
   "outputs": [],
   "source": []
  }
 ],
 "metadata": {
  "kernelspec": {
   "display_name": "Python 3 (ipykernel)",
   "language": "python",
   "name": "python3"
  },
  "language_info": {
   "codemirror_mode": {
    "name": "ipython",
    "version": 3
   },
   "file_extension": ".py",
   "mimetype": "text/x-python",
   "name": "python",
   "nbconvert_exporter": "python",
   "pygments_lexer": "ipython3",
   "version": "3.10.18"
  }
 },
 "nbformat": 4,
 "nbformat_minor": 5
}
